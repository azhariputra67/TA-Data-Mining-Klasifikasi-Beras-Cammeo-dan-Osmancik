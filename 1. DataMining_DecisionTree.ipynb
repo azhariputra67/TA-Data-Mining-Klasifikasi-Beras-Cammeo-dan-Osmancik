{
  "nbformat": 4,
  "nbformat_minor": 0,
  "metadata": {
    "colab": {
      "name": "DataMining DecisionTree.ipynb",
      "provenance": [],
      "collapsed_sections": []
    },
    "kernelspec": {
      "name": "python3",
      "display_name": "Python 3"
    },
    "language_info": {
      "name": "python"
    }
  },
  "cells": [
    {
      "cell_type": "code",
      "metadata": {
        "colab": {
          "base_uri": "https://localhost:8080/"
        },
        "id": "fj0uJ2dRMlzZ",
        "outputId": "9ba778d6-9685-43a1-ac7b-a647ad878355"
      },
      "source": [
        "import numpy as np\n",
        "import pandas as pd\n",
        "from sklearn import tree\n",
        "\n",
        "riceDataset = pd.read_csv('Dataset_Beras_Cammeo_Osmancik.csv',\n",
        "                          delimiter=',', header=0)\n",
        "\n",
        "riceDataset[\"CLASS\"] = pd.factorize(riceDataset.CLASS)[0]\n",
        "\n",
        "riceDataset = riceDataset.to_numpy()\n",
        "\n",
        "dataTraining = np.concatenate((riceDataset[0:1000,:],\n",
        "                               riceDataset[1050:2050,:]), axis=0)\n",
        "dataTesting = np.concatenate((riceDataset[1000:1050,:],\n",
        "                               riceDataset[2050:2100,:]), axis=0)\n",
        "\n",
        "inputTraining = dataTraining[:,0:7]\n",
        "inputTesting = dataTesting[:,0:7]\n",
        "labelTraining = dataTraining[:,7]\n",
        "labelTesting = dataTesting[:,7]\n",
        "\n",
        "model = tree.DecisionTreeClassifier()\n",
        "\n",
        "model = model.fit(inputTraining, labelTraining)\n",
        "\n",
        "hasilPrediksi = model.predict(inputTesting)\n",
        "print(\"label sebenarnya \",labelTesting)\n",
        "print(\"hasil prediksi \",hasilPrediksi)\n",
        "\n",
        "prediksiBenar = (hasilPrediksi == labelTesting).sum()\n",
        "prediksiSalah = (hasilPrediksi != labelTesting).sum()\n",
        "print(\"prediksi benar: \", prediksiBenar, \" data\")\n",
        "print(\"prediksi salah: \", prediksiSalah, \" data\")\n",
        "print(\"akurasi: \", prediksiBenar/(prediksiBenar+prediksiSalah) * 100, \"%\")"
      ],
      "execution_count": 46,
      "outputs": [
        {
          "output_type": "stream",
          "text": [
            "label sebenarnya  [0. 0. 0. 0. 0. 0. 0. 0. 0. 0. 0. 0. 0. 0. 0. 0. 0. 0. 0. 0. 0. 0. 0. 0.\n",
            " 0. 0. 0. 0. 0. 0. 0. 0. 0. 0. 0. 0. 0. 0. 0. 0. 0. 0. 0. 0. 0. 0. 0. 0.\n",
            " 0. 0. 1. 1. 1. 1. 1. 1. 1. 1. 1. 1. 1. 1. 1. 1. 1. 1. 1. 1. 1. 1. 1. 1.\n",
            " 1. 1. 1. 1. 1. 1. 1. 1. 1. 1. 1. 1. 1. 1. 1. 1. 1. 1. 1. 1. 1. 1. 1. 1.\n",
            " 1. 1. 1. 1.]\n",
            "hasil prediksi  [0. 1. 0. 0. 0. 0. 0. 0. 0. 0. 0. 1. 0. 0. 0. 0. 0. 0. 1. 1. 0. 0. 0. 0.\n",
            " 0. 0. 0. 0. 0. 0. 0. 0. 0. 0. 0. 0. 0. 0. 0. 0. 0. 0. 0. 0. 0. 0. 0. 0.\n",
            " 0. 0. 1. 1. 1. 1. 1. 1. 1. 1. 1. 1. 1. 1. 0. 1. 1. 1. 1. 0. 1. 1. 1. 1.\n",
            " 1. 1. 1. 0. 1. 1. 1. 1. 1. 1. 1. 0. 1. 1. 1. 1. 1. 1. 1. 1. 1. 1. 1. 0.\n",
            " 1. 1. 1. 1.]\n",
            "prediksi benar:  91  data\n",
            "prediksi salah:  9  data\n",
            "akurasi:  91.0 %\n"
          ],
          "name": "stdout"
        }
      ]
    }
  ]
}
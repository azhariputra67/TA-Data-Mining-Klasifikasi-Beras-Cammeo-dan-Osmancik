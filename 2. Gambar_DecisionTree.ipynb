{
  "nbformat": 4,
  "nbformat_minor": 0,
  "metadata": {
    "colab": {
      "name": "Gambar DecisionTree.ipynb",
      "provenance": [],
      "collapsed_sections": []
    },
    "kernelspec": {
      "name": "python3",
      "display_name": "Python 3"
    },
    "language_info": {
      "name": "python"
    }
  },
  "cells": [
    {
      "cell_type": "code",
      "metadata": {
        "id": "aHmstNB527M_"
      },
      "source": [
        "import pandas as pd"
      ],
      "execution_count": 99,
      "outputs": []
    },
    {
      "cell_type": "code",
      "metadata": {
        "id": "Tbl6mfWu3NmS"
      },
      "source": [
        "rice_data = pd.read_csv('Dataset_Beras_Cammeo_Osmancik.csv')\n",
        "rice_data = rice_data.replace({'CLASS': {'Cammeo': 0, 'Osmancik': 1}})\n",
        "features = rice_data.iloc[:,[0,1,2,3,4,5,6]].values\n",
        "target = rice_data.iloc[:,-1].values"
      ],
      "execution_count": 100,
      "outputs": []
    },
    {
      "cell_type": "code",
      "metadata": {
        "id": "cOnYp5gY3Tg_"
      },
      "source": [
        "from sklearn import tree\n",
        "clf = tree.DecisionTreeClassifier()\n",
        "clf = clf.fit(features, target)"
      ],
      "execution_count": 101,
      "outputs": []
    },
    {
      "cell_type": "code",
      "metadata": {
        "id": "8ieX8LsN3WyT"
      },
      "source": [
        "import graphviz\n",
        "dot_data = tree.export_graphviz(clf, out_file=None,feature_names=None,class_names=targetNames,filled=True, rounded=True,special_characters=True)  \n",
        "graph = graphviz.Source(dot_data)"
      ],
      "execution_count": 102,
      "outputs": []
    },
    {
      "cell_type": "code",
      "metadata": {
        "id": "yr3unohs3XhB",
        "colab": {
          "base_uri": "https://localhost:8080/"
        },
        "outputId": "2be2db2e-62c7-4804-8435-9f2753374c98"
      },
      "source": [
        "import pydotplus\n",
        "from IPython.display import Image\n",
        "graph = pydotplus.graph_from_dot_data(dot_data)\n",
        "Image(graph.create_png())\n",
        "graph.write_png('rice.png')"
      ],
      "execution_count": 103,
      "outputs": [
        {
          "output_type": "execute_result",
          "data": {
            "text/plain": [
              "True"
            ]
          },
          "metadata": {
            "tags": []
          },
          "execution_count": 103
        }
      ]
    }
  ]
}
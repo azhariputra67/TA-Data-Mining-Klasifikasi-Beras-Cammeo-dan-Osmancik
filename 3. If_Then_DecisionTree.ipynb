{
  "nbformat": 4,
  "nbformat_minor": 0,
  "metadata": {
    "colab": {
      "name": "If-Then DecisionTree.ipynb",
      "provenance": []
    },
    "kernelspec": {
      "name": "python3",
      "display_name": "Python 3"
    },
    "language_info": {
      "name": "python"
    }
  },
  "cells": [
    {
      "cell_type": "code",
      "metadata": {
        "id": "7ebctZzQRlvj"
      },
      "source": [
        "from matplotlib import pyplot as plt\n",
        "from sklearn import datasets\n",
        "from sklearn.tree import DecisionTreeClassifier \n",
        "from sklearn import tree\n",
        "import pandas as pd\n",
        "\n",
        "# Prepare the data data\n",
        "rice_data = pd.read_csv('Dataset_Beras_Cammeo_Osmancik.csv',\n",
        "                          delimiter=',', header=0)\n",
        "rice_data = rice_data.replace({'CLASS': {'Cammeo': 0, 'Osmancik': 1}})\n",
        "features = rice_data.iloc[:,[0,1,2,3,4,5,6]].values\n",
        "target = rice_data.iloc[:,-1].values\n",
        "\n",
        "# Fit the classifier with max_depth=3\n",
        "clf = DecisionTreeClassifier(max_depth=3, random_state=0)\n",
        "model = clf.fit(features, target)"
      ],
      "execution_count": 83,
      "outputs": []
    },
    {
      "cell_type": "code",
      "metadata": {
        "colab": {
          "base_uri": "https://localhost:8080/"
        },
        "id": "iaTGgDsARpMl",
        "outputId": "9c73a45f-c9ca-4ff0-eebb-eac675275367"
      },
      "source": [
        "# get the text representation\n",
        "text_representation = tree.export_text(clf)\n",
        "print(text_representation)"
      ],
      "execution_count": 84,
      "outputs": [
        {
          "output_type": "stream",
          "text": [
            "|--- feature_2 <= 192.97\n",
            "|   |--- feature_2 <= 183.56\n",
            "|   |   |--- feature_3 <= 98.87\n",
            "|   |   |   |--- class: 1\n",
            "|   |   |--- feature_3 >  98.87\n",
            "|   |   |   |--- class: 0\n",
            "|   |--- feature_2 >  183.56\n",
            "|   |   |--- feature_2 <= 188.56\n",
            "|   |   |   |--- class: 1\n",
            "|   |   |--- feature_2 >  188.56\n",
            "|   |   |   |--- class: 1\n",
            "|--- feature_2 >  192.97\n",
            "|   |--- feature_1 <= 467.63\n",
            "|   |   |--- feature_4 <= 0.90\n",
            "|   |   |   |--- class: 0\n",
            "|   |   |--- feature_4 >  0.90\n",
            "|   |   |   |--- class: 0\n",
            "|   |--- feature_1 >  467.63\n",
            "|   |   |--- feature_0 <= 13060.00\n",
            "|   |   |   |--- class: 0\n",
            "|   |   |--- feature_0 >  13060.00\n",
            "|   |   |   |--- class: 0\n",
            "\n"
          ],
          "name": "stdout"
        }
      ]
    }
  ]
}